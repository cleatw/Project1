{
 "cells": [
  {
   "cell_type": "markdown",
   "metadata": {},
   "source": [
    "# Project 1 Notebook\n",
    "## Project members: Andrew, Tim, Mide\n",
    "\n",
    "## Feel free to change/add cells as needed\n",
    "## If you are going to make a function try to let each other know that you made a function so we can all use it. (Just incase)\n",
    "\n",
    "## Points to hit:\n",
    "* Point 1: Correlation between highest grossing movies and critic/user ratings\n",
    "* Point 2: Correlation between the rating of a movie and the total gross\n",
    "* Point 3: Correlation between movie genres and total gross\n",
    "---"
   ]
  },
  {
   "cell_type": "markdown",
   "metadata": {},
   "source": [
    "## Import needed packages for project\n",
    "---"
   ]
  },
  {
   "cell_type": "code",
   "execution_count": 2,
   "metadata": {},
   "outputs": [],
   "source": [
    "import pandas as pd\n",
    "import numpy as np\n",
    "import sqlite3\n",
    "import zipfile\n",
    "import matplotlib.pyplot as plt\n",
    "import seaborn as sns\n",
    "sns.set_theme(style='darkgrid')\n",
    "%matplotlib inline"
   ]
  },
  {
   "cell_type": "markdown",
   "metadata": {},
   "source": [
    "# Data cleaning work here"
   ]
  },
  {
   "cell_type": "markdown",
   "metadata": {},
   "source": [
    "## IMDB Database\n",
    "---"
   ]
  },
  {
   "cell_type": "markdown",
   "metadata": {},
   "source": [
    "#### Extract the database"
   ]
  },
  {
   "cell_type": "markdown",
   "metadata": {},
   "source": [
    "with zipfile.ZipFile('data/im.db.zip', 'r') as imdbzip:\n",
    "    imdbzip.extractall('data/')"
   ]
  },
  {
   "cell_type": "markdown",
   "metadata": {},
   "source": [
    "#### Connect to the database"
   ]
  },
  {
   "cell_type": "markdown",
   "metadata": {},
   "source": [
    "con = sqlite3.connect('data/im.db')"
   ]
  },
  {
   "cell_type": "markdown",
   "metadata": {},
   "source": [
    "#### Perform the Query to see "
   ]
  },
  {
   "cell_type": "markdown",
   "metadata": {},
   "source": [
    "imdb_df = pd.read_sql(\n",
    "\"\"\"\n",
    "SELECT\n",
    " movie_id,\n",
    " primary_title as title,\n",
    " averagerating,\n",
    " numvotes,\n",
    " genres,\n",
    " runtime_minutes\n",
    "\n",
    "FROM \n",
    " movie_ratings\n",
    " INNER JOIN movie_basics USING (movie_id)\n",
    " JOIN movie_akas USING (movie_id)\n",
    " \n",
    "WHERE\n",
    " (runtime_minutes IS NOT NULL) AND (region = 'US')  AND (numvotes > 200000)\n",
    "\n",
    "GROUP BY movie_id\n",
    "\n",
    "ORDER BY numvotes DESC\n",
    "\n",
    "\"\"\", con)"
   ]
  },
  {
   "cell_type": "markdown",
   "metadata": {},
   "source": [
    "<img src='data/IMDBDF.jpg'>"
   ]
  },
  {
   "cell_type": "markdown",
   "metadata": {},
   "source": [
    "## Movies foreign and domestic gross earnings\n",
    "---"
   ]
  },
  {
   "cell_type": "markdown",
   "metadata": {
    "scrolled": true
   },
   "source": [
    "movie_gross = pd.read_csv('data/bom.movie_gross.csv')"
   ]
  },
  {
   "cell_type": "markdown",
   "metadata": {},
   "source": [
    "## Rotten Tomatoes movie information\n",
    "---"
   ]
  },
  {
   "cell_type": "markdown",
   "metadata": {},
   "source": [
    "rt_movie_info = pd.read_csv('data/rt.movie_info.tsv', sep='\\t')"
   ]
  },
  {
   "cell_type": "markdown",
   "metadata": {},
   "source": [
    "## Rotten Tomatoes movie reviews\n",
    "---"
   ]
  },
  {
   "cell_type": "markdown",
   "metadata": {},
   "source": [
    "rt_movie_reviews = pd.read_csv('data/rt.reviews.tsv', sep='\\t', encoding='latin-1')"
   ]
  },
  {
   "cell_type": "markdown",
   "metadata": {},
   "source": [
    "## The Movies Database\n",
    "---"
   ]
  },
  {
   "cell_type": "markdown",
   "metadata": {},
   "source": [
    "tmdb_movies = pd.read_csv('data/tmdb.movies.csv', index_col=0)"
   ]
  },
  {
   "cell_type": "markdown",
   "metadata": {},
   "source": [
    "## The Numbers (budget and gross)\n",
    "---"
   ]
  },
  {
   "cell_type": "markdown",
   "metadata": {},
   "source": [
    "tn_movie_budgets = pd.read_csv('data/tn.movie_budgets.csv')"
   ]
  },
  {
   "cell_type": "markdown",
   "metadata": {},
   "source": [
    "# Creating the Master Dataframe\n",
    "---"
   ]
  },
  {
   "cell_type": "markdown",
   "metadata": {},
   "source": [
    "#Drop null values from Rotten Tomatoes\n",
    "rt_movie_info.dropna(subset=['box_office'], inplace = True)\n",
    "\n",
    "#Create a dataframe to clean\n",
    "rt_new = rt_movie_info[['rating' , 'box_office' , 'genre', 'director']].copy()\n",
    "\n",
    "#Cleaning the new dataframe\n",
    "rt_new.dropna(subset=['director'], inplace = True)\n",
    "rt_new['box_office'] = rt_new['box_office'].str.replace(',' , '')\n",
    "\n",
    "#cast box office to type int from object\n",
    "rt_new['box_office'] = rt_new['box_office'].astype(int)\n",
    "\n",
    "#save cleaned master dataframe\n",
    "rt_new.to_csv('master.csv', encoding='utf-8', index=False)"
   ]
  },
  {
   "cell_type": "code",
   "execution_count": 3,
   "metadata": {
    "scrolled": true
   },
   "outputs": [
    {
     "name": "stdout",
     "output_type": "stream",
     "text": [
      "<class 'pandas.core.frame.DataFrame'>\n",
      "RangeIndex: 299 entries, 0 to 298\n",
      "Data columns (total 4 columns):\n",
      " #   Column      Non-Null Count  Dtype \n",
      "---  ------      --------------  ----- \n",
      " 0   rating      299 non-null    object\n",
      " 1   box_office  299 non-null    int64 \n",
      " 2   genre       299 non-null    object\n",
      " 3   director    299 non-null    object\n",
      "dtypes: int64(1), object(3)\n",
      "memory usage: 9.5+ KB\n",
      "None\n"
     ]
    },
    {
     "data": {
      "text/html": [
       "<div>\n",
       "<style scoped>\n",
       "    .dataframe tbody tr th:only-of-type {\n",
       "        vertical-align: middle;\n",
       "    }\n",
       "\n",
       "    .dataframe tbody tr th {\n",
       "        vertical-align: top;\n",
       "    }\n",
       "\n",
       "    .dataframe thead th {\n",
       "        text-align: right;\n",
       "    }\n",
       "</style>\n",
       "<table border=\"1\" class=\"dataframe\">\n",
       "  <thead>\n",
       "    <tr style=\"text-align: right;\">\n",
       "      <th></th>\n",
       "      <th>rating</th>\n",
       "      <th>box_office</th>\n",
       "      <th>genre</th>\n",
       "      <th>director</th>\n",
       "    </tr>\n",
       "  </thead>\n",
       "  <tbody>\n",
       "    <tr>\n",
       "      <th>0</th>\n",
       "      <td>R</td>\n",
       "      <td>600000</td>\n",
       "      <td>Drama|Science Fiction and Fantasy</td>\n",
       "      <td>David Cronenberg</td>\n",
       "    </tr>\n",
       "    <tr>\n",
       "      <th>1</th>\n",
       "      <td>PG-13</td>\n",
       "      <td>41032915</td>\n",
       "      <td>Comedy</td>\n",
       "      <td>Jake Kasdan</td>\n",
       "    </tr>\n",
       "    <tr>\n",
       "      <th>2</th>\n",
       "      <td>R</td>\n",
       "      <td>224114</td>\n",
       "      <td>Drama</td>\n",
       "      <td>Ray Lawrence</td>\n",
       "    </tr>\n",
       "    <tr>\n",
       "      <th>3</th>\n",
       "      <td>R</td>\n",
       "      <td>134904</td>\n",
       "      <td>Drama</td>\n",
       "      <td>Taylor Hackford</td>\n",
       "    </tr>\n",
       "    <tr>\n",
       "      <th>4</th>\n",
       "      <td>R</td>\n",
       "      <td>1039869</td>\n",
       "      <td>Comedy|Drama|Mystery and Suspense</td>\n",
       "      <td>George Hickenlooper</td>\n",
       "    </tr>\n",
       "    <tr>\n",
       "      <th>5</th>\n",
       "      <td>PG-13</td>\n",
       "      <td>20518224</td>\n",
       "      <td>Action and Adventure|Drama|Science Fiction and...</td>\n",
       "      <td>Carl Erik Rinsch</td>\n",
       "    </tr>\n",
       "    <tr>\n",
       "      <th>6</th>\n",
       "      <td>R</td>\n",
       "      <td>1971135</td>\n",
       "      <td>Art House and International|Comedy|Drama|Music...</td>\n",
       "      <td>Jim Jarmusch</td>\n",
       "    </tr>\n",
       "    <tr>\n",
       "      <th>7</th>\n",
       "      <td>R</td>\n",
       "      <td>312136</td>\n",
       "      <td>Drama</td>\n",
       "      <td>John Sayles</td>\n",
       "    </tr>\n",
       "    <tr>\n",
       "      <th>8</th>\n",
       "      <td>R</td>\n",
       "      <td>201010</td>\n",
       "      <td>Drama</td>\n",
       "      <td>Ken Loach</td>\n",
       "    </tr>\n",
       "    <tr>\n",
       "      <th>9</th>\n",
       "      <td>R</td>\n",
       "      <td>54100000</td>\n",
       "      <td>Action and Adventure|Drama|Horror|Mystery and ...</td>\n",
       "      <td>James Wong</td>\n",
       "    </tr>\n",
       "  </tbody>\n",
       "</table>\n",
       "</div>"
      ],
      "text/plain": [
       "  rating  box_office                                              genre  \\\n",
       "0      R      600000                  Drama|Science Fiction and Fantasy   \n",
       "1  PG-13    41032915                                             Comedy   \n",
       "2      R      224114                                              Drama   \n",
       "3      R      134904                                              Drama   \n",
       "4      R     1039869                  Comedy|Drama|Mystery and Suspense   \n",
       "5  PG-13    20518224  Action and Adventure|Drama|Science Fiction and...   \n",
       "6      R     1971135  Art House and International|Comedy|Drama|Music...   \n",
       "7      R      312136                                              Drama   \n",
       "8      R      201010                                              Drama   \n",
       "9      R    54100000  Action and Adventure|Drama|Horror|Mystery and ...   \n",
       "\n",
       "              director  \n",
       "0     David Cronenberg  \n",
       "1          Jake Kasdan  \n",
       "2         Ray Lawrence  \n",
       "3      Taylor Hackford  \n",
       "4  George Hickenlooper  \n",
       "5     Carl Erik Rinsch  \n",
       "6         Jim Jarmusch  \n",
       "7          John Sayles  \n",
       "8            Ken Loach  \n",
       "9           James Wong  "
      ]
     },
     "execution_count": 3,
     "metadata": {},
     "output_type": "execute_result"
    }
   ],
   "source": [
    "master = pd.read_csv('data/master.csv')\n",
    "print(master.info())\n",
    "master.head(10)"
   ]
  },
  {
   "cell_type": "markdown",
   "metadata": {},
   "source": [
    "## Selecting Dataset for point 1\n",
    "---"
   ]
  },
  {
   "cell_type": "code",
   "execution_count": 3,
   "metadata": {},
   "outputs": [
    {
     "name": "stderr",
     "output_type": "stream",
     "text": [
      "<ipython-input-3-8e8912416110>:4: SettingWithCopyWarning: \n",
      "A value is trying to be set on a copy of a slice from a DataFrame\n",
      "\n",
      "See the caveats in the documentation: https://pandas.pydata.org/pandas-docs/stable/user_guide/indexing.html#returning-a-view-versus-a-copy\n",
      "  d_earning.sort_values('box_office', inplace=True, ascending=False, ignore_index=True)\n",
      "<ipython-input-3-8e8912416110>:8: SettingWithCopyWarning: \n",
      "A value is trying to be set on a copy of a slice from a DataFrame.\n",
      "Try using .loc[row_indexer,col_indexer] = value instead\n",
      "\n",
      "See the caveats in the documentation: https://pandas.pydata.org/pandas-docs/stable/user_guide/indexing.html#returning-a-view-versus-a-copy\n",
      "  top20_d_earning['box_office'] = top20_d_earning['box_office'].apply(lambda x: x/1000000)\n"
     ]
    },
    {
     "data": {
      "text/html": [
       "<div>\n",
       "<style scoped>\n",
       "    .dataframe tbody tr th:only-of-type {\n",
       "        vertical-align: middle;\n",
       "    }\n",
       "\n",
       "    .dataframe tbody tr th {\n",
       "        vertical-align: top;\n",
       "    }\n",
       "\n",
       "    .dataframe thead th {\n",
       "        text-align: right;\n",
       "    }\n",
       "</style>\n",
       "<table border=\"1\" class=\"dataframe\">\n",
       "  <thead>\n",
       "    <tr style=\"text-align: right;\">\n",
       "      <th></th>\n",
       "      <th>director</th>\n",
       "      <th>box_office</th>\n",
       "    </tr>\n",
       "  </thead>\n",
       "  <tbody>\n",
       "    <tr>\n",
       "      <th>0</th>\n",
       "      <td>Mel Gibson</td>\n",
       "      <td>368.000000</td>\n",
       "    </tr>\n",
       "    <tr>\n",
       "      <th>1</th>\n",
       "      <td>Peter Jackson</td>\n",
       "      <td>303.001229</td>\n",
       "    </tr>\n",
       "    <tr>\n",
       "      <th>2</th>\n",
       "      <td>Sam Mendes</td>\n",
       "      <td>299.300000</td>\n",
       "    </tr>\n",
       "    <tr>\n",
       "      <th>3</th>\n",
       "      <td>Jay Roach</td>\n",
       "      <td>279.167575</td>\n",
       "    </tr>\n",
       "    <tr>\n",
       "      <th>4</th>\n",
       "      <td>Chris Columbus</td>\n",
       "      <td>261.835892</td>\n",
       "    </tr>\n",
       "    <tr>\n",
       "      <th>5</th>\n",
       "      <td>Joel Zwick</td>\n",
       "      <td>241.250669</td>\n",
       "    </tr>\n",
       "    <tr>\n",
       "      <th>6</th>\n",
       "      <td>Steven Spielberg</td>\n",
       "      <td>234.141872</td>\n",
       "    </tr>\n",
       "    <tr>\n",
       "      <th>7</th>\n",
       "      <td>Peter Berg</td>\n",
       "      <td>227.946274</td>\n",
       "    </tr>\n",
       "    <tr>\n",
       "      <th>8</th>\n",
       "      <td>Bryan Singer</td>\n",
       "      <td>214.813155</td>\n",
       "    </tr>\n",
       "    <tr>\n",
       "      <th>9</th>\n",
       "      <td>Justin Lin</td>\n",
       "      <td>209.805005</td>\n",
       "    </tr>\n",
       "    <tr>\n",
       "      <th>10</th>\n",
       "      <td>Robert Stromberg</td>\n",
       "      <td>190.871149</td>\n",
       "    </tr>\n",
       "    <tr>\n",
       "      <th>11</th>\n",
       "      <td>Andrew Tennant|Andy Tennant</td>\n",
       "      <td>177.575142</td>\n",
       "    </tr>\n",
       "    <tr>\n",
       "      <th>12</th>\n",
       "      <td>Paul Greengrass</td>\n",
       "      <td>176.049130</td>\n",
       "    </tr>\n",
       "    <tr>\n",
       "      <th>13</th>\n",
       "      <td>Jay Roach</td>\n",
       "      <td>164.454835</td>\n",
       "    </tr>\n",
       "    <tr>\n",
       "      <th>14</th>\n",
       "      <td>Tim Story</td>\n",
       "      <td>154.485963</td>\n",
       "    </tr>\n",
       "    <tr>\n",
       "      <th>15</th>\n",
       "      <td>Judd Apatow</td>\n",
       "      <td>148.734225</td>\n",
       "    </tr>\n",
       "    <tr>\n",
       "      <th>16</th>\n",
       "      <td>Steve Carr</td>\n",
       "      <td>146.336178</td>\n",
       "    </tr>\n",
       "    <tr>\n",
       "      <th>17</th>\n",
       "      <td>Alex Proyas</td>\n",
       "      <td>144.738046</td>\n",
       "    </tr>\n",
       "    <tr>\n",
       "      <th>18</th>\n",
       "      <td>Seth Gordon</td>\n",
       "      <td>134.455175</td>\n",
       "    </tr>\n",
       "    <tr>\n",
       "      <th>19</th>\n",
       "      <td>Gore Verbinski</td>\n",
       "      <td>128.579698</td>\n",
       "    </tr>\n",
       "  </tbody>\n",
       "</table>\n",
       "</div>"
      ],
      "text/plain": [
       "                       director  box_office\n",
       "0                    Mel Gibson  368.000000\n",
       "1                 Peter Jackson  303.001229\n",
       "2                    Sam Mendes  299.300000\n",
       "3                     Jay Roach  279.167575\n",
       "4                Chris Columbus  261.835892\n",
       "5                    Joel Zwick  241.250669\n",
       "6              Steven Spielberg  234.141872\n",
       "7                    Peter Berg  227.946274\n",
       "8                  Bryan Singer  214.813155\n",
       "9                    Justin Lin  209.805005\n",
       "10             Robert Stromberg  190.871149\n",
       "11  Andrew Tennant|Andy Tennant  177.575142\n",
       "12              Paul Greengrass  176.049130\n",
       "13                    Jay Roach  164.454835\n",
       "14                    Tim Story  154.485963\n",
       "15                  Judd Apatow  148.734225\n",
       "16                   Steve Carr  146.336178\n",
       "17                  Alex Proyas  144.738046\n",
       "18                  Seth Gordon  134.455175\n",
       "19               Gore Verbinski  128.579698"
      ]
     },
     "execution_count": 3,
     "metadata": {},
     "output_type": "execute_result"
    }
   ],
   "source": [
    "#creating dataframe with director and box office\n",
    "d_earning = master[['director', 'box_office']]\n",
    "d_earning.groupby(['director']).sum().reset_index()\n",
    "d_earning.sort_values('box_office', inplace=True, ascending=False, ignore_index=True)\n",
    "\n",
    "#create separate dataframe with top 20 earning directors\n",
    "top20_d_earning = d_earning[:20]\n",
    "top20_d_earning['box_office'] = top20_d_earning['box_office'].apply(lambda x: x/1000000)\n",
    "top20_d_earning"
   ]
  },
  {
   "cell_type": "code",
   "execution_count": 4,
   "metadata": {},
   "outputs": [
    {
     "data": {
      "image/png": "[encoded data removed]",
      "text/plain": [
       "<Figure size 720x720 with 1 Axes>"
      ]
     },
     "metadata": {
      "needs_background": "light"
     },
     "output_type": "display_data"
    }
   ],
   "source": [
    "#create plot\n",
    "fig, ax = plt.subplots(figsize=(10,10))\n",
    "\n",
    "#plot top 20 data onto a bar plot\n",
    "sns.barplot(y='director',x='box_office', orient='h', palette= 'flare_r', ci=None, data= top20_d_earning)\n",
    "#setting title and labels\n",
    "ax.set_title('Top 20 Directors by Box Office Earnings', fontsize=20)\n",
    "ax.set_ylabel('Directors', fontsize=15)\n",
    "ax.set_xlabel('Box Office Earnings (MM)', fontsize=15);"
   ]
  },
  {
   "cell_type": "markdown",
   "metadata": {},
   "source": [
    "## Selected Dataset for point 2\n",
    "---"
   ]
  },
  {
   "cell_type": "markdown",
   "metadata": {},
   "source": [
    "### Isolate columns for my visualization"
   ]
  },
  {
   "cell_type": "code",
   "execution_count": 4,
   "metadata": {},
   "outputs": [],
   "source": [
    "rating_gross = master[['rating', 'box_office']]"
   ]
  },
  {
   "cell_type": "markdown",
   "metadata": {},
   "source": [
    "### Drop the irrelevant columns"
   ]
  },
  {
   "cell_type": "code",
   "execution_count": 5,
   "metadata": {},
   "outputs": [
    {
     "name": "stderr",
     "output_type": "stream",
     "text": [
      "C:\\Users\\Timbothy\\anaconda3\\envs\\learn-env\\lib\\site-packages\\pandas\\core\\frame.py:4163: SettingWithCopyWarning: \n",
      "A value is trying to be set on a copy of a slice from a DataFrame\n",
      "\n",
      "See the caveats in the documentation: https://pandas.pydata.org/pandas-docs/stable/user_guide/indexing.html#returning-a-view-versus-a-copy\n",
      "  return super().drop(\n"
     ]
    }
   ],
   "source": [
    "rating_gross.drop(rating_gross[rating_gross['rating'] == 'NR'].index, inplace=True)\n",
    "rating_gross.drop(rating_gross[rating_gross['rating'] == 'NC17'].index, inplace=True)\n",
    "rating_gross.drop(rating_gross[rating_gross['rating'] == 'G'].index, inplace=True)"
   ]
  },
  {
   "cell_type": "markdown",
   "metadata": {},
   "source": [
    "### Use lambda function to display y ticks properly"
   ]
  },
  {
   "cell_type": "code",
   "execution_count": 6,
   "metadata": {},
   "outputs": [
    {
     "name": "stderr",
     "output_type": "stream",
     "text": [
      "<ipython-input-6-8bbd63000103>:1: SettingWithCopyWarning: \n",
      "A value is trying to be set on a copy of a slice from a DataFrame.\n",
      "Try using .loc[row_indexer,col_indexer] = value instead\n",
      "\n",
      "See the caveats in the documentation: https://pandas.pydata.org/pandas-docs/stable/user_guide/indexing.html#returning-a-view-versus-a-copy\n",
      "  rating_gross['box_office'] = rating_gross['box_office'].apply(lambda x: x/1000000)\n"
     ]
    }
   ],
   "source": [
    "rating_gross['box_office'] = rating_gross['box_office'].apply(lambda x: x/1000000)"
   ]
  },
  {
   "cell_type": "markdown",
   "metadata": {},
   "source": [
    "### Visualize"
   ]
  },
  {
   "cell_type": "code",
   "execution_count": 9,
   "metadata": {},
   "outputs": [
    {
     "data": {
      "image/png": "[encoded data removed]",
      "text/plain": [
       "<Figure size 720x720 with 1 Axes>"
      ]
     },
     "metadata": {
      "needs_background": "light"
     },
     "output_type": "display_data"
    }
   ],
   "source": [
    "f, ax = plt.subplots(figsize=(10, 10))\n",
    "\n",
    "sns.stripplot(x=\"box_office\", y=\"rating\", data=rating_gross, palette= 'flare_r')\n",
    "ax.set_xlabel('Box Office Gross (Millions of USD)', fontsize = 13, weight = 'bold')\n",
    "ax.set_ylabel('Top Ratings', fontsize = 13, weight = 'bold')\n",
    "ax.set_title('Total Gross by Rating', fontsize = 20);"
   ]
  },
  {
   "cell_type": "markdown",
   "metadata": {},
   "source": [
    "## Selecting Dataset for point 3\n",
    "---"
   ]
  },
  {
   "cell_type": "code",
   "execution_count": null,
   "metadata": {},
   "outputs": [],
   "source": []
  }
 ],
 "metadata": {
  "kernelspec": {
   "display_name": "Python 3",
   "language": "python",
   "name": "python3"
  },
  "language_info": {
   "codemirror_mode": {
    "name": "ipython",
    "version": 3
   },
   "file_extension": ".py",
   "mimetype": "text/x-python",
   "name": "python",
   "nbconvert_exporter": "python",
   "pygments_lexer": "ipython3",
   "version": "3.8.5"
  }
 },
 "nbformat": 4,
 "nbformat_minor": 4
}
